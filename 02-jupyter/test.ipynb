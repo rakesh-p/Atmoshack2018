{
 "cells": [
  {
   "cell_type": "markdown",
   "metadata": {},
   "source": [
    "<img src=\"https://github.com/rakesh-p/Atmoshack2018/blob/master/01-images/banner-top.jpg?raw=true\" width=\"900\">"
   ]
  },
  {
   "cell_type": "markdown",
   "metadata": {},
   "source": [
    "### <center><h1>AtmosHack 2018</h1></center>"
   ]
  },
  {
   "cell_type": "markdown",
   "metadata": {},
   "source": [
    "<img src=\"https://github.com/rakesh-p/Atmoshack2018/blob/master/01-images/banner-logos.jpg?raw=true\">"
   ]
  },
  {
   "cell_type": "markdown",
   "metadata": {},
   "source": [
    "### Datasets Offering"
   ]
  },
  {
   "cell_type": "markdown",
   "metadata": {},
   "source": [
    "|  Product | Source | Used for   | Geo Coverage  | Time Coverage   |  Resolution |  Format | HTTP Access  |\n",
    "| ------------ | ------------ | ------------ | ------------ | ------------ | ------------ | ------------ | ------------ |\n",
    "|PMAP Aerosol Optical Depth - particles in the atmosphere | Metop | Air pollution (basis for PM10, PM2.5 etc) | Global | April 2016 - onwards.  Aim 2017 onwards. (14 per day). January 2017 until December 2017 | 5x40km and 10x40km | NetCDF | [GOME-PMAP](http://atmoshack.obs.eu-de.otc.t-systems.com/?prefix=01-GOME_PMAP)|\n",
    "|NO2, Aerosols Index | Metop GOME-2 and IASI | Air pollution monitoring, volcanic eruptions, forest fires | Global | 2016 onwards | 40x80km | NetCDF/HDF5 | tbd\n",
    "| NO2, CO, O3 |\tSentinel-5p Tropomi\t| Air pollution monitoring | Global\t| July 2018 onwards | 5x5km and 7x5km | NetCDF |  [Sentinel-5P](http://atmoshack.obs.eu-de.otc.t-systems.com/?prefix=03-Sentinel_5p-Tropomi/) |\n",
    "|UV index (corrected for clouds with ECMWF data) | Metop (AC SAF) | UV - risk of harm | Global | June 2007 until May 2017 | 250 x 250 | PNG/HDF5 | [UV-Index](http://atmoshack.obs.eu-de.otc.t-systems.com/?prefix=02-UV_Index-AC_SAF/)|\n",
    "|Dust RGB |\tMeteosat Second Generation (geo orbit) | Dust storms - health and transport problems |Atlantic and Indian Ocean\t| Available from 28th September 2018 | 4km | GeoTiff/PNG | [Dust-RGB](http://atmoshack.obs.eu-de.otc.t-systems.com/?prefix=04-Meteosat-Dust_RGB) |\n",
    "|Ash RGB | Meteosat Second Generation (geo orbit) |\tVolcanic ash - aviation, health etc. | Atlantic and Indian Ocean | Available from 28th September 2018 | 4km | GeoTiff/ PNG | [Ash-RGB](http://atmoshack.obs.eu-de.otc.t-systems.com/?prefix=05-Meteosat-Ash_RGB)|\n",
    "|Regional forecasts/analyses of PM, O3, NO2, SO2 | CAMS | European air pollution | Europe | 2018 | Point data (as used in Euronews air quality forecasts), gridded data @ ~10km\t| CSV , NetCDF (gridded data) | [Air-Pollution](http://atmoshack.obs.eu-de.otc.t-systems.com/?prefix=06-CAMS-AirPollution)|\n",
    "|Global total ozone column | CAMS |\tTotal ozone columns | Global | 2003-present. Reanalysis from 2003 until 2016 | ~40km | NetCDF, GRIB |[CAMS Reanalysis data](https://confluence.ecmwf.int/display/CKB/How+to+download+the+CAMS+Reanalysis+data+via+the+ECMWF+Web+API)|\n",
    "|Global UV forecasts | CAMS | UV index | Global | 2003-present. NRT from 2016 June onwards, Reanalysis from 2003 to 2016 |~40km\t| NetCDF | [CAMS](https://atmosphere.copernicus.eu/) |\n",
    "|Global fire emissions | CAMS |\tWildland fire emission estimates | Global |\t2003-present | ~10km | NetCDF | [CAMS](https://atmosphere.copernicus.eu/) |"
   ]
  },
  {
   "cell_type": "markdown",
   "metadata": {},
   "source": [
    "<hr>"
   ]
  },
  {
   "cell_type": "code",
   "execution_count": null,
   "metadata": {},
   "outputs": [],
   "source": []
  }
 ],
 "metadata": {
  "kernelspec": {
   "display_name": "Python 3",
   "language": "python",
   "name": "python3"
  },
  "language_info": {
   "codemirror_mode": {
    "name": "ipython",
    "version": 3
   },
   "file_extension": ".py",
   "mimetype": "text/x-python",
   "name": "python",
   "nbconvert_exporter": "python",
   "pygments_lexer": "ipython3",
   "version": "3.6.4"
  }
 },
 "nbformat": 4,
 "nbformat_minor": 1
}
