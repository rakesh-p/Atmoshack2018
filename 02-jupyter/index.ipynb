{
 "cells": [
  {
   "cell_type": "markdown",
   "metadata": {},
   "source": [
    "<img src=\"https://github.com/rakesh-p/Atmoshack2018/blob/master/01-images/banner-top.jpg?raw=true\" width=\"900\">"
   ]
  },
  {
   "cell_type": "markdown",
   "metadata": {},
   "source": [
    "## <center><h2>AtmosHack 2018</h2></center>"
   ]
  },
  {
   "cell_type": "markdown",
   "metadata": {},
   "source": [
    "<img src=\"https://github.com/rakesh-p/Atmoshack2018/blob/master/01-images/banner-logos.jpg?raw=true\">"
   ]
  },
  {
   "cell_type": "markdown",
   "metadata": {},
   "source": [
    "### Datasets Offering"
   ]
  },
  {
   "cell_type": "markdown",
   "metadata": {},
   "source": [
    "|  Product | Source | Used for   | Geo Coverage  | Time Coverage   |  Resolution |  Format | Access  |\n",
    "| ------------ | ------------ | ------------ | ------------ | ------------ | ------------ | ------------ | ------------ |\n",
    "|PMAP Aerosol Optical Depth - particles in the atmosphere | Metop | Air pollution (basis for PM10, PM2.5 etc) | Global | April 2016 - onwards.  Aim 2017 onwards. (14 per day). January 2017 until December 2017 | 5x40km and 10x40km | NetCDF | [GOME_PMAP](http://atmoshack.obs.eu-de.otc.t-systems.com/?prefix=01-GOME_PMAP)|\n",
    "|NO2, Aerosols Index | Metop GOME-2 and IASI | Air pollution monitoring, volcanic eruptions, forest fires | Global | 2016 onwards | 40x80km | NetCDF/HDF5 | tbd\n",
    "| NO2, CO, O3 |\tSentinel-5p Tropomi\t| Air pollution monitoring | Global\t| July 2018 onwards | 5x5km and 7x5km | NetCDF |  [Sentinel-5P](http://atmoshack.obs.eu-de.otc.t-systems.com/?prefix=03-Sentinel_5p-Tropomi/) |\n",
    "|UV index (corrected for clouds with ECMWF data) | Metop (AC SAF) | UV - risk of harm | Global | June 2007 until May 2017 | 250 x 250 | PNG/HDF5 | [UV-Index](http://atmoshack.obs.eu-de.otc.t-systems.com/?prefix=02-UV_Index-AC_SAF/)|\n",
    "|Dust RGB |\tMeteosat Second Generation (geo orbit) | Dust storms - health and transport problems |Atlantic and Indian Ocean\t| Available from 28th September 2018 | 4km | GeoTIFF/PNG | [Dust RGB](http://atmoshack.obs.eu-de.otc.t-systems.com/?prefix=04-Meteosat-Dust_RGB) |\n",
    "   \n",
    "\n",
    "\n"
   ]
  },
  {
   "cell_type": "markdown",
   "metadata": {},
   "source": [
    "<hr>"
   ]
  },
  {
   "cell_type": "code",
   "execution_count": null,
   "metadata": {},
   "outputs": [],
   "source": []
  }
 ],
 "metadata": {
  "kernelspec": {
   "display_name": "Python 3",
   "language": "python",
   "name": "python3"
  },
  "language_info": {
   "codemirror_mode": {
    "name": "ipython",
    "version": 3
   },
   "file_extension": ".py",
   "mimetype": "text/x-python",
   "name": "python",
   "nbconvert_exporter": "python",
   "pygments_lexer": "ipython3",
   "version": "3.6.4"
  }
 },
 "nbformat": 4,
 "nbformat_minor": 1
}
