{
  "cells": [
    {
      "metadata": {},
      "cell_type": "markdown",
      "source": "   "
    },
    {
      "metadata": {},
      "cell_type": "markdown",
      "source": "![banner](https://github.com/rakesh-p/Atmoshack2018/blob/master/01-images/Atmoshack2018-banner.jpg?raw=true)"
    },
    {
      "metadata": {},
      "cell_type": "markdown",
      "source": "# <center><h1>AtmosHack 2018</h1></center>"
    },
    {
      "metadata": {},
      "cell_type": "markdown",
      "source": "## Datasets"
    },
    {
      "metadata": {},
      "cell_type": "markdown",
      "source": "### [1. PMAP Aerosol Optical Depth - particles in the atmosphere](http://atmoshack.obs.eu-de.otc.t-systems.com/?prefix=01-GOME_PMAP/) \n\nSource: Metop\n\nUsed for: Air pollution (basis for PM10, PM2.5 etc)"
    },
    {
      "metadata": {},
      "cell_type": "markdown",
      "source": "### [2. NO2, Aerosols Index](http://atmoshack.obs.eu-de.otc.t-systems.com/?prefix=02-UV_Index-AC_SAF)\nSource Metop, GOME-2 and IASI\n\nUser for: Air pollution monitoring, volcanic eruptions, forest fires"
    },
    {
      "metadata": {},
      "cell_type": "markdown",
      "source": "<hr>"
    },
    {
      "metadata": {
        "trusted": true
      },
      "cell_type": "code",
      "source": "",
      "execution_count": null,
      "outputs": []
    }
  ],
  "metadata": {
    "kernelspec": {
      "name": "python2",
      "display_name": "Python 2",
      "language": "python"
    },
    "language_info": {
      "mimetype": "text/x-python",
      "nbconvert_exporter": "python",
      "name": "python",
      "pygments_lexer": "ipython2",
      "version": "2.7.14",
      "file_extension": ".py",
      "codemirror_mode": {
        "version": 2,
        "name": "ipython"
      }
    }
  },
  "nbformat": 4,
  "nbformat_minor": 1
}